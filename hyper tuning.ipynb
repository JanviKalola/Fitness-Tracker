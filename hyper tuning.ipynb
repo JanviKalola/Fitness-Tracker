{
 "cells": [
  {
   "cell_type": "code",
   "execution_count": 1,
   "id": "4e2c0919",
   "metadata": {},
   "outputs": [
    {
     "name": "stdout",
     "output_type": "stream",
     "text": [
      "Starting Hyperparameter Tuning...\n",
      "Best Hyperparameters: {'max_depth': 10, 'min_samples_split': 10, 'n_estimators': 50}\n",
      "Mean Squared Error (MSE): 7.21\n",
      "R² Score: -0.06\n",
      "Model training and evaluation completed!\n"
     ]
    }
   ],
   "source": [
    "\n",
    "import numpy as np\n",
    "import pandas as pd\n",
    "import joblib\n",
    "import os\n",
    "from sklearn.model_selection import train_test_split, GridSearchCV, RandomizedSearchCV\n",
    "from sklearn.ensemble import RandomForestRegressor\n",
    "from sklearn.metrics import mean_squared_error, r2_score\n",
    "\n",
    "# 📌 File Paths\n",
    "DATA_FILE = \"fitness_data.csv\"\n",
    "MODEL_FILE = \"fitness_model.pkl\"\n",
    "\n",
    "# ✅ Function to Load Dataset\n",
    "def load_data():\n",
    "    if os.path.exists(DATA_FILE):\n",
    "        return pd.read_csv(DATA_FILE)\n",
    "    else:\n",
    "        # Simulate dataset\n",
    "        np.random.seed(42)\n",
    "        num_samples = 500\n",
    "        data = pd.DataFrame({\n",
    "            'steps': np.random.randint(1000, 20000, num_samples),\n",
    "            'heart_rate': np.random.randint(50, 180, num_samples),\n",
    "            'calories_burned': np.random.randint(50, 5000, num_samples),\n",
    "        })\n",
    "        data['fitness_score'] = np.random.randint(1, 10, num_samples)\n",
    "        return data\n",
    "\n",
    "# ✅ Hyperparameter Tuning Function\n",
    "def tune_hyperparameters(method=\"grid\"):\n",
    "    df = load_data()\n",
    "    X = df[['steps', 'heart_rate', 'calories_burned']]\n",
    "    y = df['fitness_score']\n",
    "    \n",
    "    X_train, X_test, y_train, y_test = train_test_split(X, y, test_size=0.2, random_state=42)\n",
    "    \n",
    "    # Define parameter grid\n",
    "    param_grid = {\n",
    "        \"n_estimators\": [50, 100, 200],\n",
    "        \"max_depth\": [None, 10, 20],\n",
    "        \"min_samples_split\": [2, 5, 10]\n",
    "    }\n",
    "    \n",
    "    model = RandomForestRegressor(random_state=42)\n",
    "\n",
    "    if method == \"grid\":\n",
    "        search = GridSearchCV(model, param_grid, cv=3, n_jobs=-1)\n",
    "    else:\n",
    "        search = RandomizedSearchCV(model, param_grid, cv=3, n_jobs=-1, n_iter=5)\n",
    "\n",
    "    search.fit(X_train, y_train)\n",
    "\n",
    "    best_model = search.best_estimator_\n",
    "    joblib.dump(best_model, MODEL_FILE)\n",
    "    \n",
    "    # Evaluate Model\n",
    "    y_pred = best_model.predict(X_test)\n",
    "    mse = mean_squared_error(y_test, y_pred)\n",
    "    r2 = r2_score(y_test, y_pred)\n",
    "    \n",
    "    print(\"Best Hyperparameters:\", search.best_params_)\n",
    "    print(f\"Mean Squared Error (MSE): {mse:.2f}\")\n",
    "    print(f\"R² Score: {r2:.2f}\")\n",
    "    \n",
    "    return best_model, search.best_params_, mse, r2\n",
    "\n",
    "# ✅ Run Hyperparameter Tuning\n",
    "if __name__ == \"__main__\":\n",
    "    print(\"Starting Hyperparameter Tuning...\")\n",
    "    best_model, best_params, mse, r2 = tune_hyperparameters(\"grid\")\n",
    "    print(\"Model training and evaluation completed!\")\n"
   ]
  },
  {
   "cell_type": "code",
   "execution_count": null,
   "id": "d3c3d920",
   "metadata": {},
   "outputs": [],
   "source": []
  }
 ],
 "metadata": {
  "kernelspec": {
   "display_name": "Python 3",
   "language": "python",
   "name": "python3"
  },
  "language_info": {
   "codemirror_mode": {
    "name": "ipython",
    "version": 3
   },
   "file_extension": ".py",
   "mimetype": "text/x-python",
   "name": "python",
   "nbconvert_exporter": "python",
   "pygments_lexer": "ipython3",
   "version": "3.12.2"
  }
 },
 "nbformat": 4,
 "nbformat_minor": 5
}
